{
  "nbformat": 4,
  "nbformat_minor": 0,
  "metadata": {
    "colab": {
      "provenance": [],
      "authorship_tag": "ABX9TyM1ORWTESD+M8teBp+BUnD2",
      "include_colab_link": true
    },
    "kernelspec": {
      "name": "python3",
      "display_name": "Python 3"
    },
    "language_info": {
      "name": "python"
    }
  },
  "cells": [
    {
      "cell_type": "markdown",
      "metadata": {
        "id": "view-in-github",
        "colab_type": "text"
      },
      "source": [
        "<a href=\"https://colab.research.google.com/github/soumen-gorai/assignment1/blob/main/assignment1.ipynb\" target=\"_parent\"><img src=\"https://colab.research.google.com/assets/colab-badge.svg\" alt=\"Open In Colab\"/></a>"
      ]
    },
    {
      "cell_type": "markdown",
      "source": [
        "#1 Explain the key features of Python that make it a popular choice for programming\n",
        "\n",
        "#Python is one of the most popular programming languages.\n",
        "#Readable Syntax: Python's syntax is clean, simple, and easy to read.\n",
        "#High-level Language: Python abstracts many of the complex details of the machine, allowing developers to focus more on solving problems than on managing memory or low-level details.\n",
        "#Cross-platform: Python is cross-platform, which means Python code can run on different operating systems like Windows, macOS, and Linux without modification.\n",
        "#Python comes with an extensive standard library that supports many common programming tasks, such as file I/O, regular expressions, and working with internet protocols. This reduces the need to write code from scratch, enabling developers to build applications more quickly.\n",
        "#Python has a large, active community that contributes to its development and provides extensive support via forums, tutorials, and documentation. This makes it easy to find help when encountering problems and ensures a wealth of learning resources for new developers.\n",
        "#Python has become the dominant language for data science, machine learning, and artificial intelligence. Libraries like NumPy, Pandas, SciPy, scikit-learn, TensorFlow, and PyTorch are some of the most widely used tools in the field, making Python the go-to language for data-driven and AI-related applications.\n",
        "\n",
        "> Add blockquote\n",
        "\n",
        "\n",
        "\n"
      ],
      "metadata": {
        "id": "gDbxgc1iuVzs"
      }
    },
    {
      "cell_type": "code",
      "source": [
        "#2 Describe the role of predefined keywords in Python and provide examples of how they are used in a program\n",
        "# Example of using control flow keywords\n",
        "x = 10\n",
        "if x > 5:\n",
        "    print(\"x is greater than 5\")\n",
        "else:\n",
        "    print(\"x is less than or equal to 5\")\n",
        "\n",
        "# Example of function definition with 'def' and 'return'\n",
        "def square(num):\n",
        "    return num * num\n",
        "\n",
        "result = square(4)\n",
        "print(result)\n",
        "\n",
        "# Example of exception handling with 'try', 'except', and 'raise'\n",
        "try:\n",
        "    value = int(input(\"Enter a number: \"))\n",
        "except ValueError:\n",
        "    print(\"That's not a valid number!\")\n",
        "\n",
        "\n"
      ],
      "metadata": {
        "colab": {
          "base_uri": "https://localhost:8080/"
        },
        "id": "Agbx-nqosCZ-",
        "outputId": "5b57ffe0-3356-4b1f-e687-12e0ea6a7a37"
      },
      "execution_count": null,
      "outputs": [
        {
          "name": "stdout",
          "output_type": "stream",
          "text": [
            "x is greater than 5\n",
            "16\n",
            "Enter a number: 10\n"
          ]
        }
      ]
    },
    {
      "cell_type": "markdown",
      "source": [
        "#control Flow: Keywords like if, else, elif, for, while, break, and continue manage the flow of execution in programs.\n",
        "#Data Types and Variables: Keywords such as int, float, str, list, and tuple are used to define types or manage variables.\n",
        "#Functionality: Keywords like def, return, lambda, and yield define functions and handle their return behavior.\n",
        "#Class and Object Handling: Keywords such as class, self, super, and __init__ are used in object-oriented programming to define classes and methods.\n",
        "#Exception Handling: Keywords like try, except, finally, and raise are used for managing exceptions in code."
      ],
      "metadata": {
        "id": "DM_addd6v8W9"
      }
    },
    {
      "cell_type": "code",
      "source": [
        "#3 Compare and contrast mutable and immutable objects in Python with examples\n",
        "#mutable\n",
        "list1=[1,2,3,4,6,\"soumen\"]\n",
        "print(list1)\n",
        "list1[5]=\"ram\"\n",
        "list1[2]=8\n",
        "print(list1)\n",
        "#immutable\n",
        "a=\"raj\"\n",
        "a[1]\n",
        "print(a)\n",
        "a[1]=u\n"
      ],
      "metadata": {
        "colab": {
          "base_uri": "https://localhost:8080/"
        },
        "id": "wrFzKivIRk4M",
        "outputId": "531d4801-045f-4c80-e0a6-6aef8224bdbf"
      },
      "execution_count": null,
      "outputs": [
        {
          "output_type": "stream",
          "name": "stdout",
          "text": [
            "[1, 2, 3, 4, 6, 'soumen']\n",
            "[1, 2, 8, 4, 6, 'ram']\n",
            "raj\n"
          ]
        }
      ]
    },
    {
      "cell_type": "markdown",
      "source": [
        "# Here mutable means which are changeable like list here in list1 i take 6 objects(0-5) . and in 5 i take string \"soumen\" and i replace this with \"ram\" which is posssible this is call mutable. and also in 2nd position i have 3 i replace 3 with 8.\n",
        "# Here immutable means which are not changeable here i take a string \"raj\" i can access their element but not change them here i want to change a to u but i can get an error. because it is not chnageable which is immutable.\n",
        "\n"
      ],
      "metadata": {
        "id": "9QWZSdyFV0ew"
      }
    },
    {
      "cell_type": "code",
      "source": [
        "#4 Discuss the different types of operators in Python and provide examples of how they are used.\n",
        "a=(1+3)\n",
        "print(a)\n",
        "b=(4-6)\n",
        "print(b)\n",
        "c=(3*4)\n",
        "print(c)\n",
        "a=4\n",
        "b=5\n",
        "print(a>=b)\n",
        "print(a<=b)\n",
        "a=\"soumen\"\n",
        "print(\"s\" in a)\n",
        "print(\"s\"not in a)\n",
        "a=3\n",
        "b=5\n",
        "print(a is b)\n",
        "print(a is not b)\n",
        "a=7\n",
        "b=a\n",
        "print(a is b)"
      ],
      "metadata": {
        "id": "M93yIzFodhgS",
        "colab": {
          "base_uri": "https://localhost:8080/"
        },
        "outputId": "164998d1-215a-4517-dee2-fa4c66351f16"
      },
      "execution_count": null,
      "outputs": [
        {
          "output_type": "stream",
          "name": "stdout",
          "text": [
            "4\n",
            "-2\n",
            "12\n",
            "False\n",
            "True\n",
            "True\n",
            "False\n",
            "False\n",
            "True\n",
            "True\n"
          ]
        }
      ]
    },
    {
      "cell_type": "markdown",
      "source": [
        "#here i use different type of operator for execution.like(+,-,*,>=,<=),IN AND NOT IN operator, IS and IS NOT operator. when a and b bot value are same then print true otherwise print false."
      ],
      "metadata": {
        "id": "8JvWu65jsQmg"
      }
    },
    {
      "cell_type": "code",
      "source": [
        "#5 Explain the concept of type casting in Python with examples.\n",
        "a=8\n",
        "print(type(a))\n",
        "a=\"ram\"\n",
        "print(type(a))\n",
        "a=4.6\n",
        "print(type(a))\n",
        "a=\"5\"\n",
        "print(type(a))\n",
        "a=\"5\"\n",
        "b=8\n",
        "#print(a+b)\n",
        "print(int(a)+b)\n",
        "print(type(int(a)))\n",
        "a=\"ram\"\n",
        "b=7\n",
        "#print(a+b)\n",
        "# print(int(a)+b)\n",
        "b= 8.9\n",
        "print(type(b))\n",
        "float_value=int(b)\n",
        "type(float_value)\n",
        "a= \"ram\"\n",
        "b=\"pal\"\n",
        "print(a+b)"
      ],
      "metadata": {
        "colab": {
          "base_uri": "https://localhost:8080/"
        },
        "id": "9FWSFrt8taa8",
        "outputId": "03e7b0a5-f941-4f79-efd5-9671323ebab4"
      },
      "execution_count": null,
      "outputs": [
        {
          "output_type": "stream",
          "name": "stdout",
          "text": [
            "<class 'int'>\n",
            "<class 'str'>\n",
            "<class 'float'>\n",
            "<class 'str'>\n",
            "13\n",
            "<class 'int'>\n",
            "<class 'float'>\n",
            "rampal\n",
            "19soumen\n"
          ]
        }
      ]
    },
    {
      "cell_type": "markdown",
      "source": [
        "# here i take one string ,float,intiger. but when i am take a= \"5\" it works as a string. when i add \"5\" and 8 which not posible but when i convert \"5\"n using int then i can add if i have any integer value under the double coat. if i have one string and one num i cant add. here i have one float value i can change this in integer value using int function. i can also same this for integer to float. nut not for any string . here for two string concatenate the string and execute. but if here have one num in string this is not possible.\n"
      ],
      "metadata": {
        "id": "9Se2wRPsv1wv"
      }
    },
    {
      "cell_type": "code",
      "source": [
        "#6 How do conditional statements work in Python? Illustrate with examples\n",
        "#if elif else statement\n",
        "a=int(input(\"enter any num: \"))\n",
        "b=int(input(\"enter any num: \"))\n",
        "if a>b:\n",
        "  print(\"a is greater than b\")\n",
        "elif a==b:\n",
        "  print(\"a is equal to b\")\n",
        "else:\n",
        "  print(\"b is greater than a\")\n"
      ],
      "metadata": {
        "id": "TLXQ8lOAVnpX",
        "colab": {
          "base_uri": "https://localhost:8080/"
        },
        "outputId": "8433a723-4a5b-4866-9f2c-f7a183566151"
      },
      "execution_count": null,
      "outputs": [
        {
          "output_type": "stream",
          "name": "stdout",
          "text": [
            "enter any num: 40\n",
            "enter any num: 50\n",
            "b is greater than a\n"
          ]
        }
      ]
    },
    {
      "cell_type": "markdown",
      "source": [
        "# for conditional statement we have many types of statement like: if-else statement ,if-elif-else statement,break-continue . in example here i take two user input and if a is greater than b then print a is greater elif a is equal to b then print a is equal to b. else print b is greater than a."
      ],
      "metadata": {
        "id": "1cFv0_Ecc3xe"
      }
    },
    {
      "cell_type": "code",
      "source": [
        "#7 Describe the different types of loops in Python and their use cases with examples.\n",
        "#the for loop\n",
        "name=\"soumen\"\n",
        "for i in name:\n",
        "    print(i)#here end =',' optional if i use end then write print(i,end=',')\n",
        "    if(i==\"u\"):#this is use if statement in foor loop\n",
        "        print(\"their is something\")\n",
        "#over a list\n",
        "colours=[\"red\",\"green\",\"blue\"]\n",
        "for color in colours:\n",
        "    print(color)\n",
        "    for i in color:#this is use for loop in foor loop\n",
        "        print(i)\n",
        "#the while loop\n",
        "i= 0\n",
        "while(i<3):\n",
        "    print(i)\n",
        "    i=i+1\n",
        "print(\"done whith loop\")\n",
        "#while loop5\n",
        "\n",
        "i= int(input(\"enter the number :\"))\n",
        "print(i)\n",
        "while(i<39):\n",
        "    i= int(input(\"enter the number :\"))\n",
        "    print(i)\n",
        "print(\"done whith loop\")"
      ],
      "metadata": {
        "colab": {
          "base_uri": "https://localhost:8080/"
        },
        "id": "GISA2uo6dgNc",
        "outputId": "aff06bef-9ff8-4496-ecf5-39d591d91804"
      },
      "execution_count": null,
      "outputs": [
        {
          "output_type": "stream",
          "name": "stdout",
          "text": [
            "s\n",
            "o\n",
            "u\n",
            "their is something\n",
            "m\n",
            "e\n",
            "n\n",
            "red\n",
            "r\n",
            "e\n",
            "d\n",
            "green\n",
            "g\n",
            "r\n",
            "e\n",
            "e\n",
            "n\n",
            "blue\n",
            "b\n",
            "l\n",
            "u\n",
            "e\n",
            "0\n",
            "1\n",
            "2\n",
            "done whith loop\n",
            "enter the number :50\n",
            "50\n",
            "done whith loop\n"
          ]
        }
      ]
    },
    {
      "cell_type": "markdown",
      "source": [
        "we know two type of loop which is for loop and while loop.i am describe in code ."
      ],
      "metadata": {
        "id": "YDrx1Cgto44r"
      }
    }
  ]
}